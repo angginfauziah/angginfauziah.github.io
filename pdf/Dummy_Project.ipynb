{
 "cells": [
  {
   "cell_type": "markdown",
   "id": "2f84ec49",
   "metadata": {},
   "source": [
    "DUMMY PROJECT"
   ]
  },
  {
   "cell_type": "code",
   "execution_count": 1,
   "id": "9d264348",
   "metadata": {},
   "outputs": [],
   "source": [
    "#Anggi Nur Fauziah\n",
    "#140610190069"
   ]
  },
  {
   "cell_type": "code",
   "execution_count": null,
   "id": "5201734a",
   "metadata": {},
   "outputs": [],
   "source": []
  }
 ],
 "metadata": {
  "kernelspec": {
   "display_name": "Python 3",
   "language": "python",
   "name": "python3"
  },
  "language_info": {
   "codemirror_mode": {
    "name": "ipython",
    "version": 3
   },
   "file_extension": ".py",
   "mimetype": "text/x-python",
   "name": "python",
   "nbconvert_exporter": "python",
   "pygments_lexer": "ipython3",
   "version": "3.8.8"
  }
 },
 "nbformat": 4,
 "nbformat_minor": 5
}
